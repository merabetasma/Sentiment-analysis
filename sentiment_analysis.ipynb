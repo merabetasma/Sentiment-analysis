{
  "nbformat": 4,
  "nbformat_minor": 0,
  "metadata": {
    "colab": {
      "provenance": [],
      "collapsed_sections": []
    },
    "kernelspec": {
      "name": "python3",
      "display_name": "Python 3"
    },
    "language_info": {
      "name": "python"
    }
  },
  "cells": [
    {
      "cell_type": "markdown",
      "source": [
        "# Import  Libraries"
      ],
      "metadata": {
        "id": "zr7recw6_1Z4"
      }
    },
    {
      "cell_type": "code",
      "execution_count": null,
      "metadata": {
        "id": "a1LmfqahuCjF"
      },
      "outputs": [],
      "source": [
        "import numpy as np\n",
        "import tweepy as tw\n",
        "import pandas as pd\n",
        "import matplotlib.pyplot as plt\n",
        "import seaborn as sns\n",
        "from textblob import Word , TextBlob\n",
        "import re\n",
        "import string\n",
        "import nltk\n",
        "from nltk.util import pr\n",
        "from nltk.corpus import stopwords\n",
        "import warnings\n",
        "warnings.filterwarnings('ignore')"
      ]
    },
    {
      "cell_type": "markdown",
      "source": [
        "# Get Tweets"
      ],
      "metadata": {
        "id": "IjqLRfM-darE"
      }
    },
    {
      "cell_type": "code",
      "source": [
        "# your Twitter API key and API secret\n",
        "my_api_key = \" \"\n",
        "my_api_secret = \"  \"\n",
        "Bearer_Token= \"   \"\n",
        "Access_token=\"   \"\n",
        "Access_Token_Secret=\"   \"\n",
        "# authenticate\n",
        "auth = tw.OAuthHandler(my_api_key, my_api_secret)\n",
        "auth.set_access_token(Access_token,Access_Token_Secret)\n",
        "api = tw.API(auth, wait_on_rate_limit=True)"
      ],
      "metadata": {
        "id": "MJjCvP9pu6eN"
      },
      "execution_count": null,
      "outputs": []
    },
    {
      "cell_type": "code",
      "source": [
        "search_query = \"#TheBatman-filter:retweets\"\n",
        "query = tw.Cursor(api.search,\n",
        "              q=search_query,\n",
        "              lang=\"en\"\n",
        "              ).items(5000)\n",
        "# store the API responses in a list\n",
        "#tweets_copy = []\n",
        "#for tweet in query:\n",
        "    #tweets_copy.append(tweet)\n",
        "    \n",
        "#print(\"Total Tweets fetched:\", len(tweets_copy))\n",
        "tweets=[{'Tweets':tweet.text,'timestamp':tweet.created_at}for tweet in query]\n",
        "print(tweets)"
      ],
      "metadata": {
        "id": "ukiEtLvPwPVF"
      },
      "execution_count": null,
      "outputs": []
    },
    {
      "cell_type": "code",
      "source": [
        "df= pd.DataFrame.from_dict(tweets)\n",
        "df.head(10)\n"
      ],
      "metadata": {
        "colab": {
          "base_uri": "https://localhost:8080/",
          "height": 363
        },
        "id": "dk-7tvB8m11H",
        "outputId": "3527927a-2bdf-4be5-b3d8-ba44face502c"
      },
      "execution_count": null,
      "outputs": [
        {
          "output_type": "execute_result",
          "data": {
            "text/plain": [
              "                                              Tweets           timestamp\n",
              "0  Just watched #TheBatman good film, didn't have... 2022-03-14 15:57:18\n",
              "1  Bought the The Batman Oreo’s thinking I can wi... 2022-03-14 15:57:11\n",
              "2  The Riddler watching District Attorney Colson'... 2022-03-14 15:56:40\n",
              "3  Ben Affleck’s cancelled Batman movie concept a... 2022-03-14 15:56:39\n",
              "4  Say one bad thing about Elon Musk and your not... 2022-03-14 15:56:37\n",
              "5  Me and two teenage boys in a massive cinema to... 2022-03-14 15:56:29\n",
              "6               Oh, and I'm seeing #TheBatman today. 2022-03-14 15:56:17\n",
              "7  Jus watched #TheBatman it was just epic , espe... 2022-03-14 15:56:00\n",
              "8  The Riddler watching District Attorney Colson'... 2022-03-14 15:55:47\n",
              "9  You enjoying a film more than #TheBatman does ... 2022-03-14 15:55:38"
            ],
            "text/html": [
              "\n",
              "  <div id=\"df-2b77835b-1f94-4a4f-8cda-bb6bccff3609\">\n",
              "    <div class=\"colab-df-container\">\n",
              "      <div>\n",
              "<style scoped>\n",
              "    .dataframe tbody tr th:only-of-type {\n",
              "        vertical-align: middle;\n",
              "    }\n",
              "\n",
              "    .dataframe tbody tr th {\n",
              "        vertical-align: top;\n",
              "    }\n",
              "\n",
              "    .dataframe thead th {\n",
              "        text-align: right;\n",
              "    }\n",
              "</style>\n",
              "<table border=\"1\" class=\"dataframe\">\n",
              "  <thead>\n",
              "    <tr style=\"text-align: right;\">\n",
              "      <th></th>\n",
              "      <th>Tweets</th>\n",
              "      <th>timestamp</th>\n",
              "    </tr>\n",
              "  </thead>\n",
              "  <tbody>\n",
              "    <tr>\n",
              "      <th>0</th>\n",
              "      <td>Just watched #TheBatman good film, didn't have...</td>\n",
              "      <td>2022-03-14 15:57:18</td>\n",
              "    </tr>\n",
              "    <tr>\n",
              "      <th>1</th>\n",
              "      <td>Bought the The Batman Oreo’s thinking I can wi...</td>\n",
              "      <td>2022-03-14 15:57:11</td>\n",
              "    </tr>\n",
              "    <tr>\n",
              "      <th>2</th>\n",
              "      <td>The Riddler watching District Attorney Colson'...</td>\n",
              "      <td>2022-03-14 15:56:40</td>\n",
              "    </tr>\n",
              "    <tr>\n",
              "      <th>3</th>\n",
              "      <td>Ben Affleck’s cancelled Batman movie concept a...</td>\n",
              "      <td>2022-03-14 15:56:39</td>\n",
              "    </tr>\n",
              "    <tr>\n",
              "      <th>4</th>\n",
              "      <td>Say one bad thing about Elon Musk and your not...</td>\n",
              "      <td>2022-03-14 15:56:37</td>\n",
              "    </tr>\n",
              "    <tr>\n",
              "      <th>5</th>\n",
              "      <td>Me and two teenage boys in a massive cinema to...</td>\n",
              "      <td>2022-03-14 15:56:29</td>\n",
              "    </tr>\n",
              "    <tr>\n",
              "      <th>6</th>\n",
              "      <td>Oh, and I'm seeing #TheBatman today.</td>\n",
              "      <td>2022-03-14 15:56:17</td>\n",
              "    </tr>\n",
              "    <tr>\n",
              "      <th>7</th>\n",
              "      <td>Jus watched #TheBatman it was just epic , espe...</td>\n",
              "      <td>2022-03-14 15:56:00</td>\n",
              "    </tr>\n",
              "    <tr>\n",
              "      <th>8</th>\n",
              "      <td>The Riddler watching District Attorney Colson'...</td>\n",
              "      <td>2022-03-14 15:55:47</td>\n",
              "    </tr>\n",
              "    <tr>\n",
              "      <th>9</th>\n",
              "      <td>You enjoying a film more than #TheBatman does ...</td>\n",
              "      <td>2022-03-14 15:55:38</td>\n",
              "    </tr>\n",
              "  </tbody>\n",
              "</table>\n",
              "</div>\n",
              "      <button class=\"colab-df-convert\" onclick=\"convertToInteractive('df-2b77835b-1f94-4a4f-8cda-bb6bccff3609')\"\n",
              "              title=\"Convert this dataframe to an interactive table.\"\n",
              "              style=\"display:none;\">\n",
              "        \n",
              "  <svg xmlns=\"http://www.w3.org/2000/svg\" height=\"24px\"viewBox=\"0 0 24 24\"\n",
              "       width=\"24px\">\n",
              "    <path d=\"M0 0h24v24H0V0z\" fill=\"none\"/>\n",
              "    <path d=\"M18.56 5.44l.94 2.06.94-2.06 2.06-.94-2.06-.94-.94-2.06-.94 2.06-2.06.94zm-11 1L8.5 8.5l.94-2.06 2.06-.94-2.06-.94L8.5 2.5l-.94 2.06-2.06.94zm10 10l.94 2.06.94-2.06 2.06-.94-2.06-.94-.94-2.06-.94 2.06-2.06.94z\"/><path d=\"M17.41 7.96l-1.37-1.37c-.4-.4-.92-.59-1.43-.59-.52 0-1.04.2-1.43.59L10.3 9.45l-7.72 7.72c-.78.78-.78 2.05 0 2.83L4 21.41c.39.39.9.59 1.41.59.51 0 1.02-.2 1.41-.59l7.78-7.78 2.81-2.81c.8-.78.8-2.07 0-2.86zM5.41 20L4 18.59l7.72-7.72 1.47 1.35L5.41 20z\"/>\n",
              "  </svg>\n",
              "      </button>\n",
              "      \n",
              "  <style>\n",
              "    .colab-df-container {\n",
              "      display:flex;\n",
              "      flex-wrap:wrap;\n",
              "      gap: 12px;\n",
              "    }\n",
              "\n",
              "    .colab-df-convert {\n",
              "      background-color: #E8F0FE;\n",
              "      border: none;\n",
              "      border-radius: 50%;\n",
              "      cursor: pointer;\n",
              "      display: none;\n",
              "      fill: #1967D2;\n",
              "      height: 32px;\n",
              "      padding: 0 0 0 0;\n",
              "      width: 32px;\n",
              "    }\n",
              "\n",
              "    .colab-df-convert:hover {\n",
              "      background-color: #E2EBFA;\n",
              "      box-shadow: 0px 1px 2px rgba(60, 64, 67, 0.3), 0px 1px 3px 1px rgba(60, 64, 67, 0.15);\n",
              "      fill: #174EA6;\n",
              "    }\n",
              "\n",
              "    [theme=dark] .colab-df-convert {\n",
              "      background-color: #3B4455;\n",
              "      fill: #D2E3FC;\n",
              "    }\n",
              "\n",
              "    [theme=dark] .colab-df-convert:hover {\n",
              "      background-color: #434B5C;\n",
              "      box-shadow: 0px 1px 3px 1px rgba(0, 0, 0, 0.15);\n",
              "      filter: drop-shadow(0px 1px 2px rgba(0, 0, 0, 0.3));\n",
              "      fill: #FFFFFF;\n",
              "    }\n",
              "  </style>\n",
              "\n",
              "      <script>\n",
              "        const buttonEl =\n",
              "          document.querySelector('#df-2b77835b-1f94-4a4f-8cda-bb6bccff3609 button.colab-df-convert');\n",
              "        buttonEl.style.display =\n",
              "          google.colab.kernel.accessAllowed ? 'block' : 'none';\n",
              "\n",
              "        async function convertToInteractive(key) {\n",
              "          const element = document.querySelector('#df-2b77835b-1f94-4a4f-8cda-bb6bccff3609');\n",
              "          const dataTable =\n",
              "            await google.colab.kernel.invokeFunction('convertToInteractive',\n",
              "                                                     [key], {});\n",
              "          if (!dataTable) return;\n",
              "\n",
              "          const docLinkHtml = 'Like what you see? Visit the ' +\n",
              "            '<a target=\"_blank\" href=https://colab.research.google.com/notebooks/data_table.ipynb>data table notebook</a>'\n",
              "            + ' to learn more about interactive tables.';\n",
              "          element.innerHTML = '';\n",
              "          dataTable['output_type'] = 'display_data';\n",
              "          await google.colab.output.renderOutput(dataTable, element);\n",
              "          const docLink = document.createElement('div');\n",
              "          docLink.innerHTML = docLinkHtml;\n",
              "          element.appendChild(docLink);\n",
              "        }\n",
              "      </script>\n",
              "    </div>\n",
              "  </div>\n",
              "  "
            ]
          },
          "metadata": {},
          "execution_count": 31
        }
      ]
    },
    {
      "cell_type": "code",
      "source": [
        "df.to_csv('thebatman_tweets.csv',index=True)"
      ],
      "metadata": {
        "id": "WGBgcx8QNwtK"
      },
      "execution_count": null,
      "outputs": []
    },
    {
      "cell_type": "markdown",
      "source": [
        "# Read the data"
      ],
      "metadata": {
        "id": "I12SQdoJt_SR"
      }
    },
    {
      "cell_type": "code",
      "source": [
        "from google.colab import files\n",
        "uplaolded= files.upload()"
      ],
      "metadata": {
        "colab": {
          "resources": {
            "http://localhost:8080/nbextensions/google.colab/files.js": {
              "data": "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",
              "ok": true,
              "headers": [
                [
                  "content-type",
                  "application/javascript"
                ]
              ],
              "status": 200,
              "status_text": ""
            }
          },
          "base_uri": "https://localhost:8080/",
          "height": 73
        },
        "id": "1btTu9ZcGv5n",
        "outputId": "1f042729-204c-486f-b218-af7633019810"
      },
      "execution_count": null,
      "outputs": [
        {
          "output_type": "display_data",
          "data": {
            "text/plain": [
              "<IPython.core.display.HTML object>"
            ],
            "text/html": [
              "\n",
              "     <input type=\"file\" id=\"files-c139e3b8-ed47-491f-95bd-2ca043d765b8\" name=\"files[]\" multiple disabled\n",
              "        style=\"border:none\" />\n",
              "     <output id=\"result-c139e3b8-ed47-491f-95bd-2ca043d765b8\">\n",
              "      Upload widget is only available when the cell has been executed in the\n",
              "      current browser session. Please rerun this cell to enable.\n",
              "      </output>\n",
              "      <script src=\"/nbextensions/google.colab/files.js\"></script> "
            ]
          },
          "metadata": {}
        },
        {
          "output_type": "stream",
          "name": "stdout",
          "text": [
            "Saving thebatman_tweets.csv to thebatman_tweets.csv\n"
          ]
        }
      ]
    },
    {
      "cell_type": "code",
      "source": [
        "df=pd.read_csv('thebatman_tweets.csv')\n",
        "df.drop('Unnamed: 0',axis=1,inplace=True)\n",
        "df.head()"
      ],
      "metadata": {
        "colab": {
          "base_uri": "https://localhost:8080/",
          "height": 206
        },
        "id": "hwyzmDPXH8u5",
        "outputId": "05f1bf37-9d8d-4666-cb6d-7c45832b1906"
      },
      "execution_count": null,
      "outputs": [
        {
          "output_type": "execute_result",
          "data": {
            "text/plain": [
              "                                              Tweets            timestamp\n",
              "0  Just watched #TheBatman good film, didn't have...  2022-03-14 15:57:18\n",
              "1  Bought the The Batman Oreo’s thinking I can wi...  2022-03-14 15:57:11\n",
              "2  The Riddler watching District Attorney Colson'...  2022-03-14 15:56:40\n",
              "3  Ben Affleck’s cancelled Batman movie concept a...  2022-03-14 15:56:39\n",
              "4  Say one bad thing about Elon Musk and your not...  2022-03-14 15:56:37"
            ],
            "text/html": [
              "\n",
              "  <div id=\"df-d3e22172-99ca-45e3-a837-620ee2320620\">\n",
              "    <div class=\"colab-df-container\">\n",
              "      <div>\n",
              "<style scoped>\n",
              "    .dataframe tbody tr th:only-of-type {\n",
              "        vertical-align: middle;\n",
              "    }\n",
              "\n",
              "    .dataframe tbody tr th {\n",
              "        vertical-align: top;\n",
              "    }\n",
              "\n",
              "    .dataframe thead th {\n",
              "        text-align: right;\n",
              "    }\n",
              "</style>\n",
              "<table border=\"1\" class=\"dataframe\">\n",
              "  <thead>\n",
              "    <tr style=\"text-align: right;\">\n",
              "      <th></th>\n",
              "      <th>Tweets</th>\n",
              "      <th>timestamp</th>\n",
              "    </tr>\n",
              "  </thead>\n",
              "  <tbody>\n",
              "    <tr>\n",
              "      <th>0</th>\n",
              "      <td>Just watched #TheBatman good film, didn't have...</td>\n",
              "      <td>2022-03-14 15:57:18</td>\n",
              "    </tr>\n",
              "    <tr>\n",
              "      <th>1</th>\n",
              "      <td>Bought the The Batman Oreo’s thinking I can wi...</td>\n",
              "      <td>2022-03-14 15:57:11</td>\n",
              "    </tr>\n",
              "    <tr>\n",
              "      <th>2</th>\n",
              "      <td>The Riddler watching District Attorney Colson'...</td>\n",
              "      <td>2022-03-14 15:56:40</td>\n",
              "    </tr>\n",
              "    <tr>\n",
              "      <th>3</th>\n",
              "      <td>Ben Affleck’s cancelled Batman movie concept a...</td>\n",
              "      <td>2022-03-14 15:56:39</td>\n",
              "    </tr>\n",
              "    <tr>\n",
              "      <th>4</th>\n",
              "      <td>Say one bad thing about Elon Musk and your not...</td>\n",
              "      <td>2022-03-14 15:56:37</td>\n",
              "    </tr>\n",
              "  </tbody>\n",
              "</table>\n",
              "</div>\n",
              "      <button class=\"colab-df-convert\" onclick=\"convertToInteractive('df-d3e22172-99ca-45e3-a837-620ee2320620')\"\n",
              "              title=\"Convert this dataframe to an interactive table.\"\n",
              "              style=\"display:none;\">\n",
              "        \n",
              "  <svg xmlns=\"http://www.w3.org/2000/svg\" height=\"24px\"viewBox=\"0 0 24 24\"\n",
              "       width=\"24px\">\n",
              "    <path d=\"M0 0h24v24H0V0z\" fill=\"none\"/>\n",
              "    <path d=\"M18.56 5.44l.94 2.06.94-2.06 2.06-.94-2.06-.94-.94-2.06-.94 2.06-2.06.94zm-11 1L8.5 8.5l.94-2.06 2.06-.94-2.06-.94L8.5 2.5l-.94 2.06-2.06.94zm10 10l.94 2.06.94-2.06 2.06-.94-2.06-.94-.94-2.06-.94 2.06-2.06.94z\"/><path d=\"M17.41 7.96l-1.37-1.37c-.4-.4-.92-.59-1.43-.59-.52 0-1.04.2-1.43.59L10.3 9.45l-7.72 7.72c-.78.78-.78 2.05 0 2.83L4 21.41c.39.39.9.59 1.41.59.51 0 1.02-.2 1.41-.59l7.78-7.78 2.81-2.81c.8-.78.8-2.07 0-2.86zM5.41 20L4 18.59l7.72-7.72 1.47 1.35L5.41 20z\"/>\n",
              "  </svg>\n",
              "      </button>\n",
              "      \n",
              "  <style>\n",
              "    .colab-df-container {\n",
              "      display:flex;\n",
              "      flex-wrap:wrap;\n",
              "      gap: 12px;\n",
              "    }\n",
              "\n",
              "    .colab-df-convert {\n",
              "      background-color: #E8F0FE;\n",
              "      border: none;\n",
              "      border-radius: 50%;\n",
              "      cursor: pointer;\n",
              "      display: none;\n",
              "      fill: #1967D2;\n",
              "      height: 32px;\n",
              "      padding: 0 0 0 0;\n",
              "      width: 32px;\n",
              "    }\n",
              "\n",
              "    .colab-df-convert:hover {\n",
              "      background-color: #E2EBFA;\n",
              "      box-shadow: 0px 1px 2px rgba(60, 64, 67, 0.3), 0px 1px 3px 1px rgba(60, 64, 67, 0.15);\n",
              "      fill: #174EA6;\n",
              "    }\n",
              "\n",
              "    [theme=dark] .colab-df-convert {\n",
              "      background-color: #3B4455;\n",
              "      fill: #D2E3FC;\n",
              "    }\n",
              "\n",
              "    [theme=dark] .colab-df-convert:hover {\n",
              "      background-color: #434B5C;\n",
              "      box-shadow: 0px 1px 3px 1px rgba(0, 0, 0, 0.15);\n",
              "      filter: drop-shadow(0px 1px 2px rgba(0, 0, 0, 0.3));\n",
              "      fill: #FFFFFF;\n",
              "    }\n",
              "  </style>\n",
              "\n",
              "      <script>\n",
              "        const buttonEl =\n",
              "          document.querySelector('#df-d3e22172-99ca-45e3-a837-620ee2320620 button.colab-df-convert');\n",
              "        buttonEl.style.display =\n",
              "          google.colab.kernel.accessAllowed ? 'block' : 'none';\n",
              "\n",
              "        async function convertToInteractive(key) {\n",
              "          const element = document.querySelector('#df-d3e22172-99ca-45e3-a837-620ee2320620');\n",
              "          const dataTable =\n",
              "            await google.colab.kernel.invokeFunction('convertToInteractive',\n",
              "                                                     [key], {});\n",
              "          if (!dataTable) return;\n",
              "\n",
              "          const docLinkHtml = 'Like what you see? Visit the ' +\n",
              "            '<a target=\"_blank\" href=https://colab.research.google.com/notebooks/data_table.ipynb>data table notebook</a>'\n",
              "            + ' to learn more about interactive tables.';\n",
              "          element.innerHTML = '';\n",
              "          dataTable['output_type'] = 'display_data';\n",
              "          await google.colab.output.renderOutput(dataTable, element);\n",
              "          const docLink = document.createElement('div');\n",
              "          docLink.innerHTML = docLinkHtml;\n",
              "          element.appendChild(docLink);\n",
              "        }\n",
              "      </script>\n",
              "    </div>\n",
              "  </div>\n",
              "  "
            ]
          },
          "metadata": {},
          "execution_count": 70
        }
      ]
    },
    {
      "cell_type": "markdown",
      "source": [
        "Count of words and characters"
      ],
      "metadata": {
        "id": "RFNZBBHgl_Dd"
      }
    },
    {
      "cell_type": "code",
      "source": [
        "def count_cart_word(tweet):\n",
        " count = 5000\n",
        " #caracters\n",
        " length_characters = tweet.str.len()\n",
        " #print(df['total_length_characters'])\n",
        " print('the max length characters is :',max(length_characters))\n",
        " print('the min length characters is :',min(length_characters))\n",
        " total_length_characters = length_characters.sum()\n",
        " average_length = total_length_characters / count\n",
        " print (average_length)\n",
        " #words\n",
        " count_words = tweet.str.split().str.len()\n",
        " #print(df['total_count_words'])\n",
        " total_words = count_words.sum()\n",
        " print('the max  count words is :',max(count_words))\n",
        " print('the min  count words is :',min(count_words))\n",
        " print(total_words)\n",
        " average_words = total_words / count\n",
        " print (average_words)\n"
      ],
      "metadata": {
        "id": "s3XrKTh-JqcR"
      },
      "execution_count": null,
      "outputs": []
    },
    {
      "cell_type": "code",
      "source": [
        "count_cart_word(df['Tweets'])"
      ],
      "metadata": {
        "colab": {
          "base_uri": "https://localhost:8080/"
        },
        "id": "sMontvVuLnP1",
        "outputId": "b0dbec11-2f26-432c-c6ff-cf4174abbe6e"
      },
      "execution_count": null,
      "outputs": [
        {
          "output_type": "stream",
          "name": "stdout",
          "text": [
            "the max length characters is : 152\n",
            "the min length characters is : 17\n",
            "106.7978\n",
            "the max  count words is : 32\n",
            "the min  count words is : 2\n",
            "76968\n",
            "15.3936\n"
          ]
        }
      ]
    },
    {
      "cell_type": "code",
      "source": [
        "df['length_characters'] = df['Tweets'].str.len()\n",
        "df['count_words']=df['Tweets'].str.split().str.len()\n"
      ],
      "metadata": {
        "id": "-0V0OUgdikEm"
      },
      "execution_count": null,
      "outputs": []
    },
    {
      "cell_type": "code",
      "source": [
        "plt.figure(figsize = (8,6))\n",
        "#sns.countplot(data = df, x = 'length_characters')\n",
        "sns.countplot(data = df, x = 'count_words')\n",
        "plt.show()"
      ],
      "metadata": {
        "colab": {
          "base_uri": "https://localhost:8080/",
          "height": 389
        },
        "id": "zwQBIwteiiV-",
        "outputId": "6875d748-4f08-4894-b169-8a6f87de3cb0"
      },
      "execution_count": null,
      "outputs": [
        {
          "output_type": "display_data",
          "data": {
            "text/plain": [
              "<Figure size 576x432 with 1 Axes>"
            ],
            "image/png": "[encoded data removed]"
          },
          "metadata": {
            "needs_background": "light"
          }
        }
      ]
    },
    {
      "cell_type": "markdown",
      "source": [
        "Top hashtags"
      ],
      "metadata": {
        "id": "hYbdf_oWmJ19"
      }
    },
    {
      "cell_type": "code",
      "source": [
        "def hashtag_extract(text_list):\n",
        "  hashtags = []\n",
        "# Loop over the words in the tweet\n",
        "  for text in text_list:\n",
        "    ht = re.findall(r\"#(\\w+)\", text)\n",
        "    hashtags.append(ht)\n",
        "  return hashtags\n",
        "def generate_hashtag_freqdist(hashtags):\n",
        "  a = nltk.FreqDist(hashtags)\n",
        "  d = pd.DataFrame({'Hashtag': list(a.keys()),\n",
        "  'Count': list(a.values())})\n",
        "# selecting top 15 most frequent hashtags\n",
        "  d = d.nlargest(columns=\"Count\", n = 25)\n",
        "  plt.figure(figsize=(12,7))\n",
        "  ax = sns.barplot(data=d, x= \"Hashtag\", y = \"Count\")\n",
        "  plt.xticks(rotation=80)\n",
        "  ax.set(ylabel = 'Count')\n",
        "  plt.show()\n"
      ],
      "metadata": {
        "id": "O_T_SuP7bQw0"
      },
      "execution_count": null,
      "outputs": []
    },
    {
      "cell_type": "code",
      "source": [
        "hashtags = hashtag_extract(df[\"Tweets\"])\n",
        "hashtags = sum(hashtags, [])\n",
        "generate_hashtag_freqdist(hashtags)"
      ],
      "metadata": {
        "colab": {
          "base_uri": "https://localhost:8080/",
          "height": 554
        },
        "id": "yhdmFrF5fIAy",
        "outputId": "ea5701a1-de7c-4faf-f52a-62a337c5d330"
      },
      "execution_count": null,
      "outputs": [
        {
          "output_type": "display_data",
          "data": {
            "text/plain": [
              "<Figure size 864x504 with 1 Axes>"
            ],
            "image/png": "[encoded data removed]"
          },
          "metadata": {
            "needs_background": "light"
          }
        }
      ]
    },
    {
      "cell_type": "markdown",
      "source": [
        "# Preprocessing"
      ],
      "metadata": {
        "id": "KH47eqgCpdZh"
      }
    },
    {
      "cell_type": "markdown",
      "source": [
        "Duplicates"
      ],
      "metadata": {
        "id": "rq1l0dPrMwnT"
      }
    },
    {
      "cell_type": "code",
      "source": [
        "df['Tweets'].drop_duplicates(inplace=True)"
      ],
      "metadata": {
        "id": "OTmj0752MV9-"
      },
      "execution_count": null,
      "outputs": []
    },
    {
      "cell_type": "markdown",
      "source": [
        "Stop_words"
      ],
      "metadata": {
        "id": "VfVQC2tA1kPd"
      }
    },
    {
      "cell_type": "code",
      "source": [
        "nltk.download('stopwords')\n",
        "stop_words = set(stopwords.words('english'))\n",
        "custom_stopwords= ['thebatman','the batman','#boxoffice','#turningRed','#batcat']\n"
      ],
      "metadata": {
        "id": "WnM4ufworoPR",
        "colab": {
          "base_uri": "https://localhost:8080/"
        },
        "outputId": "7e7e0398-8594-4c4d-9d51-e909f19460f9"
      },
      "execution_count": null,
      "outputs": [
        {
          "output_type": "stream",
          "name": "stderr",
          "text": [
            "[nltk_data] Downloading package stopwords to /root/nltk_data...\n",
            "[nltk_data]   Package stopwords is already up-to-date!\n"
          ]
        }
      ]
    },
    {
      "cell_type": "markdown",
      "source": [
        "Stemming and lemmatization"
      ],
      "metadata": {
        "id": "psWf0AHtDbmo"
      }
    },
    {
      "cell_type": "code",
      "source": [
        "nltk.download()"
      ],
      "metadata": {
        "colab": {
          "base_uri": "https://localhost:8080/"
        },
        "id": "W_o7pNlxRMdM",
        "outputId": "6dac73d4-93bc-4891-da26-7c8fc5817fb7"
      },
      "execution_count": null,
      "outputs": [
        {
          "name": "stdout",
          "output_type": "stream",
          "text": [
            "NLTK Downloader\n",
            "---------------------------------------------------------------------------\n",
            "    d) Download   l) List    u) Update   c) Config   h) Help   q) Quit\n",
            "---------------------------------------------------------------------------\n",
            "Downloader> d\n",
            "\n",
            "Download which package (l=list; x=cancel)?\n",
            "  Identifier> omw-1.4\n"
          ]
        },
        {
          "output_type": "stream",
          "name": "stderr",
          "text": [
            "    Downloading package omw-1.4 to /root/nltk_data...\n",
            "      Unzipping corpora/omw-1.4.zip.\n"
          ]
        },
        {
          "name": "stdout",
          "output_type": "stream",
          "text": [
            "\n",
            "---------------------------------------------------------------------------\n",
            "    d) Download   l) List    u) Update   c) Config   h) Help   q) Quit\n",
            "---------------------------------------------------------------------------\n",
            "Downloader> q\n"
          ]
        },
        {
          "output_type": "execute_result",
          "data": {
            "text/plain": [
              "True"
            ]
          },
          "metadata": {},
          "execution_count": 34
        }
      ]
    },
    {
      "cell_type": "code",
      "source": [
        "stemmer = nltk.SnowballStemmer(\"english\")\n",
        " \n",
        "# Create WordNetLemmatizer object\n",
        "lm= nltk.WordNetLemmatizer()\n"
      ],
      "metadata": {
        "id": "_0qzJ9SoDVsO"
      },
      "execution_count": null,
      "outputs": []
    },
    {
      "cell_type": "markdown",
      "source": [
        "Cleaning tweets"
      ],
      "metadata": {
        "id": "_kkxjMe6DqvS"
      }
    },
    {
      "cell_type": "code",
      "source": [
        "def clean(text):\n",
        " # convert to lowercase\n",
        " text = str(text).lower()\n",
        " # remove hashtags\n",
        " text= re.sub(\"(#[A-Za-z0-9]+)\", '', text)\n",
        " #remove any character enter [ ] and []\n",
        " text = re.sub('\\[.*\\]', '', text)\n",
        " #remove hyperlinks\n",
        " text = re.sub('https?://\\S+|www\\.\\S+', '', text)\n",
        " #remove any character enter < > and < >\n",
        " text = re.sub('<.*?>+', '', text)\n",
        " #remove punctuation\n",
        " #text = re.sub('[%s]' % re.escape(string.punctuation), '', text)\n",
        " #remove \\n newline\n",
        " text = re.sub('\\n', '', text)\n",
        " #remove symbols and digital(a9a)\n",
        " text = re.sub('\\w*\\d\\w*', '', text)\n",
        " #stop word\n",
        " text = [word for word in text.split(' ') if word not in stop_words]\n",
        " text=\" \".join(text)\n",
        " #stemming\n",
        " #stemmer = nltk.SnowballStemmer(\"english\")\n",
        " #text = [stemmer.stem(word) for word in text.split(' ')]\n",
        " #text=\" \".join(text)\n",
        " #lemmatization\n",
        " text = [lm.lemmatize(word) for word in text.split(' ')]\n",
        " text=\" \".join(text)\n",
        " return text\n",
        "df[\"clean_Tweets\"] = df[\"Tweets\"].apply(clean)\n",
        "df.head()"
      ],
      "metadata": {
        "colab": {
          "base_uri": "https://localhost:8080/",
          "height": 206
        },
        "id": "AYviKP0BcznG",
        "outputId": "54b672dd-6fb1-4351-9abe-6977f515596d"
      },
      "execution_count": null,
      "outputs": [
        {
          "output_type": "execute_result",
          "data": {
            "text/plain": [
              "                                              Tweets            timestamp  \\\n",
              "0  Just watched #TheBatman good film, didn't have...  2022-03-14 15:57:18   \n",
              "1  Bought the The Batman Oreo’s thinking I can wi...  2022-03-14 15:57:11   \n",
              "2  The Riddler watching District Attorney Colson'...  2022-03-14 15:56:40   \n",
              "3  Ben Affleck’s cancelled Batman movie concept a...  2022-03-14 15:56:39   \n",
              "4  Say one bad thing about Elon Musk and your not...  2022-03-14 15:56:37   \n",
              "\n",
              "   length_characters  count_words  \\\n",
              "0                140           25   \n",
              "1                123           19   \n",
              "2                139           17   \n",
              "3                140           22   \n",
              "4                116           21   \n",
              "\n",
              "                                        clean_Tweets  \n",
              "0  watched  good film, long was. issue theme. soun…   \n",
              "1  bought batman oreo’s thinking win meet greet r...  \n",
              "2  riddler watching district attorney colson's su...  \n",
              "3  ben affleck’s cancelled batman movie concept a...  \n",
              "4  say one bad thing elon musk notification full ...  "
            ],
            "text/html": [
              "\n",
              "  <div id=\"df-ef462c6b-5ad6-431b-9e8f-1ba582be57fd\">\n",
              "    <div class=\"colab-df-container\">\n",
              "      <div>\n",
              "<style scoped>\n",
              "    .dataframe tbody tr th:only-of-type {\n",
              "        vertical-align: middle;\n",
              "    }\n",
              "\n",
              "    .dataframe tbody tr th {\n",
              "        vertical-align: top;\n",
              "    }\n",
              "\n",
              "    .dataframe thead th {\n",
              "        text-align: right;\n",
              "    }\n",
              "</style>\n",
              "<table border=\"1\" class=\"dataframe\">\n",
              "  <thead>\n",
              "    <tr style=\"text-align: right;\">\n",
              "      <th></th>\n",
              "      <th>Tweets</th>\n",
              "      <th>timestamp</th>\n",
              "      <th>length_characters</th>\n",
              "      <th>count_words</th>\n",
              "      <th>clean_Tweets</th>\n",
              "    </tr>\n",
              "  </thead>\n",
              "  <tbody>\n",
              "    <tr>\n",
              "      <th>0</th>\n",
              "      <td>Just watched #TheBatman good film, didn't have...</td>\n",
              "      <td>2022-03-14 15:57:18</td>\n",
              "      <td>140</td>\n",
              "      <td>25</td>\n",
              "      <td>watched  good film, long was. issue theme. soun…</td>\n",
              "    </tr>\n",
              "    <tr>\n",
              "      <th>1</th>\n",
              "      <td>Bought the The Batman Oreo’s thinking I can wi...</td>\n",
              "      <td>2022-03-14 15:57:11</td>\n",
              "      <td>123</td>\n",
              "      <td>19</td>\n",
              "      <td>bought batman oreo’s thinking win meet greet r...</td>\n",
              "    </tr>\n",
              "    <tr>\n",
              "      <th>2</th>\n",
              "      <td>The Riddler watching District Attorney Colson'...</td>\n",
              "      <td>2022-03-14 15:56:40</td>\n",
              "      <td>139</td>\n",
              "      <td>17</td>\n",
              "      <td>riddler watching district attorney colson's su...</td>\n",
              "    </tr>\n",
              "    <tr>\n",
              "      <th>3</th>\n",
              "      <td>Ben Affleck’s cancelled Batman movie concept a...</td>\n",
              "      <td>2022-03-14 15:56:39</td>\n",
              "      <td>140</td>\n",
              "      <td>22</td>\n",
              "      <td>ben affleck’s cancelled batman movie concept a...</td>\n",
              "    </tr>\n",
              "    <tr>\n",
              "      <th>4</th>\n",
              "      <td>Say one bad thing about Elon Musk and your not...</td>\n",
              "      <td>2022-03-14 15:56:37</td>\n",
              "      <td>116</td>\n",
              "      <td>21</td>\n",
              "      <td>say one bad thing elon musk notification full ...</td>\n",
              "    </tr>\n",
              "  </tbody>\n",
              "</table>\n",
              "</div>\n",
              "      <button class=\"colab-df-convert\" onclick=\"convertToInteractive('df-ef462c6b-5ad6-431b-9e8f-1ba582be57fd')\"\n",
              "              title=\"Convert this dataframe to an interactive table.\"\n",
              "              style=\"display:none;\">\n",
              "        \n",
              "  <svg xmlns=\"http://www.w3.org/2000/svg\" height=\"24px\"viewBox=\"0 0 24 24\"\n",
              "       width=\"24px\">\n",
              "    <path d=\"M0 0h24v24H0V0z\" fill=\"none\"/>\n",
              "    <path d=\"M18.56 5.44l.94 2.06.94-2.06 2.06-.94-2.06-.94-.94-2.06-.94 2.06-2.06.94zm-11 1L8.5 8.5l.94-2.06 2.06-.94-2.06-.94L8.5 2.5l-.94 2.06-2.06.94zm10 10l.94 2.06.94-2.06 2.06-.94-2.06-.94-.94-2.06-.94 2.06-2.06.94z\"/><path d=\"M17.41 7.96l-1.37-1.37c-.4-.4-.92-.59-1.43-.59-.52 0-1.04.2-1.43.59L10.3 9.45l-7.72 7.72c-.78.78-.78 2.05 0 2.83L4 21.41c.39.39.9.59 1.41.59.51 0 1.02-.2 1.41-.59l7.78-7.78 2.81-2.81c.8-.78.8-2.07 0-2.86zM5.41 20L4 18.59l7.72-7.72 1.47 1.35L5.41 20z\"/>\n",
              "  </svg>\n",
              "      </button>\n",
              "      \n",
              "  <style>\n",
              "    .colab-df-container {\n",
              "      display:flex;\n",
              "      flex-wrap:wrap;\n",
              "      gap: 12px;\n",
              "    }\n",
              "\n",
              "    .colab-df-convert {\n",
              "      background-color: #E8F0FE;\n",
              "      border: none;\n",
              "      border-radius: 50%;\n",
              "      cursor: pointer;\n",
              "      display: none;\n",
              "      fill: #1967D2;\n",
              "      height: 32px;\n",
              "      padding: 0 0 0 0;\n",
              "      width: 32px;\n",
              "    }\n",
              "\n",
              "    .colab-df-convert:hover {\n",
              "      background-color: #E2EBFA;\n",
              "      box-shadow: 0px 1px 2px rgba(60, 64, 67, 0.3), 0px 1px 3px 1px rgba(60, 64, 67, 0.15);\n",
              "      fill: #174EA6;\n",
              "    }\n",
              "\n",
              "    [theme=dark] .colab-df-convert {\n",
              "      background-color: #3B4455;\n",
              "      fill: #D2E3FC;\n",
              "    }\n",
              "\n",
              "    [theme=dark] .colab-df-convert:hover {\n",
              "      background-color: #434B5C;\n",
              "      box-shadow: 0px 1px 3px 1px rgba(0, 0, 0, 0.15);\n",
              "      filter: drop-shadow(0px 1px 2px rgba(0, 0, 0, 0.3));\n",
              "      fill: #FFFFFF;\n",
              "    }\n",
              "  </style>\n",
              "\n",
              "      <script>\n",
              "        const buttonEl =\n",
              "          document.querySelector('#df-ef462c6b-5ad6-431b-9e8f-1ba582be57fd button.colab-df-convert');\n",
              "        buttonEl.style.display =\n",
              "          google.colab.kernel.accessAllowed ? 'block' : 'none';\n",
              "\n",
              "        async function convertToInteractive(key) {\n",
              "          const element = document.querySelector('#df-ef462c6b-5ad6-431b-9e8f-1ba582be57fd');\n",
              "          const dataTable =\n",
              "            await google.colab.kernel.invokeFunction('convertToInteractive',\n",
              "                                                     [key], {});\n",
              "          if (!dataTable) return;\n",
              "\n",
              "          const docLinkHtml = 'Like what you see? Visit the ' +\n",
              "            '<a target=\"_blank\" href=https://colab.research.google.com/notebooks/data_table.ipynb>data table notebook</a>'\n",
              "            + ' to learn more about interactive tables.';\n",
              "          element.innerHTML = '';\n",
              "          dataTable['output_type'] = 'display_data';\n",
              "          await google.colab.output.renderOutput(dataTable, element);\n",
              "          const docLink = document.createElement('div');\n",
              "          docLink.innerHTML = docLinkHtml;\n",
              "          element.appendChild(docLink);\n",
              "        }\n",
              "      </script>\n",
              "    </div>\n",
              "  </div>\n",
              "  "
            ]
          },
          "metadata": {},
          "execution_count": 78
        }
      ]
    },
    {
      "cell_type": "code",
      "source": [
        "count_cart_word(df['clean_Tweets'])"
      ],
      "metadata": {
        "colab": {
          "base_uri": "https://localhost:8080/"
        },
        "id": "x-ESa1mZfTuO",
        "outputId": "b401827d-736b-40ce-e66b-a052e8bae65c"
      },
      "execution_count": null,
      "outputs": [
        {
          "output_type": "stream",
          "name": "stdout",
          "text": [
            "the max length characters is : 116\n",
            "the min length characters is : 1\n",
            "53.1106\n",
            "the max  count words is : 27\n",
            "the min  count words is : 0\n",
            "39643\n",
            "7.9286\n"
          ]
        }
      ]
    },
    {
      "cell_type": "code",
      "source": [
        "df['clean_count_words']=df['clean_Tweets'].str.split().str.len()\n",
        "plt.figure(figsize = (8,6))\n",
        "#sns.countplot(data = df, x = 'length_characters')\n",
        "sns.countplot(data = df, x = 'clean_count_words')\n",
        "plt.show()"
      ],
      "metadata": {
        "colab": {
          "base_uri": "https://localhost:8080/",
          "height": 389
        },
        "id": "PJXX68hPSM6T",
        "outputId": "c2a84d26-9402-4101-f289-d4624e46e947"
      },
      "execution_count": null,
      "outputs": [
        {
          "output_type": "display_data",
          "data": {
            "text/plain": [
              "<Figure size 576x432 with 1 Axes>"
            ],
            "image/png": "[encoded data removed]"
          },
          "metadata": {
            "needs_background": "light"
          }
        }
      ]
    },
    {
      "cell_type": "markdown",
      "source": [
        "# Sentiment anlysis"
      ],
      "metadata": {
        "id": "8elNGQ7DO6uU"
      }
    },
    {
      "cell_type": "code",
      "source": [
        "from textblob import TextBlob\n",
        "def analyze_sentiment(tweet):\n",
        "  analysis = TextBlob(tweet)\n",
        "  if analysis.sentiment.polarity > 0:\n",
        "    return 'positive'\n",
        "  elif analysis.sentiment.polarity == 0:\n",
        "    return 'neutral'\n",
        "  else:\n",
        "    return 'negative'\n",
        "df['Sentiment'] = df['clean_Tweets'].apply(lambda x:analyze_sentiment(x))"
      ],
      "metadata": {
        "id": "sRLg5jEagHox"
      },
      "execution_count": null,
      "outputs": []
    },
    {
      "cell_type": "code",
      "source": [
        "plt.figure(figsize = (10,8))\n",
        "sns.countplot(data = df, x = 'Sentiment')\n",
        "plt.show()"
      ],
      "metadata": {
        "colab": {
          "base_uri": "https://localhost:8080/",
          "height": 497
        },
        "id": "1NQQe3bsjVqw",
        "outputId": "6ea31e98-342c-4d66-a527-5801b385dfc3"
      },
      "execution_count": null,
      "outputs": [
        {
          "output_type": "display_data",
          "data": {
            "text/plain": [
              "<Figure size 720x576 with 1 Axes>"
            ],
            "image/png": "[encoded data removed]"
          },
          "metadata": {
            "needs_background": "light"
          }
        }
      ]
    },
    {
      "cell_type": "code",
      "source": [
        "from wordcloud import WordCloud\n",
        "txt = ' '.join(text for text in df['clean_Tweets'])\n",
        "wordcloud = WordCloud(\n",
        "\n",
        "background_color = 'white',\n",
        "max_font_size = 100,\n",
        "max_words = 100,\n",
        "width = 800,\n",
        "height = 500\n",
        ").generate(txt)\n",
        "\n",
        "plt.imshow(wordcloud,interpolation = 'bilinear')\n",
        "plt.axis('off')\n",
        "plt.show()"
      ],
      "metadata": {
        "colab": {
          "base_uri": "https://localhost:8080/",
          "height": 240
        },
        "id": "1gqEX-umj5YZ",
        "outputId": "a9acb4b5-b728-4776-8f7b-a8d9d0832765"
      },
      "execution_count": null,
      "outputs": [
        {
          "output_type": "display_data",
          "data": {
            "text/plain": [
              "<Figure size 432x288 with 1 Axes>"
            ],
            "image/png": "[encoded data removed]"
          },
          "metadata": {
            "needs_background": "light"
          }
        }
      ]
    },
    {
      "cell_type": "markdown",
      "source": [
        "#Vader"
      ],
      "metadata": {
        "id": "hwbbAMZDi93C"
      }
    },
    {
      "cell_type": "code",
      "source": [
        "nltk.download('vader_lexicon')\n",
        "from nltk.sentiment.vader import SentimentIntensityAnalyzer\n",
        "sid= SentimentIntensityAnalyzer()"
      ],
      "metadata": {
        "id": "1YetLK5-oC0W",
        "colab": {
          "base_uri": "https://localhost:8080/"
        },
        "outputId": "35051a62-51ed-4333-c212-2251054402eb"
      },
      "execution_count": null,
      "outputs": [
        {
          "output_type": "stream",
          "name": "stderr",
          "text": [
            "[nltk_data] Downloading package vader_lexicon to /root/nltk_data...\n",
            "[nltk_data]   Package vader_lexicon is already up-to-date!\n"
          ]
        }
      ]
    },
    {
      "cell_type": "code",
      "source": [
        "df['scores'] = df['clean_Tweets'].apply(lambda x: sid.polarity_scores(x))\n",
        "df['compound']  = df['scores'].apply(lambda score_dict: score_dict['compound'])\n",
        "df.head()"
      ],
      "metadata": {
        "colab": {
          "base_uri": "https://localhost:8080/",
          "height": 389
        },
        "id": "OeTRazKbRgDB",
        "outputId": "3c16f5f3-60be-4ad8-aa6d-1e8885c8493f"
      },
      "execution_count": null,
      "outputs": [
        {
          "output_type": "execute_result",
          "data": {
            "text/plain": [
              "                                              Tweets            timestamp  \\\n",
              "0  Just watched #TheBatman good film, didn't have...  2022-03-14 15:57:18   \n",
              "1  Bought the The Batman Oreo’s thinking I can wi...  2022-03-14 15:57:11   \n",
              "2  The Riddler watching District Attorney Colson'...  2022-03-14 15:56:40   \n",
              "3  Ben Affleck’s cancelled Batman movie concept a...  2022-03-14 15:56:39   \n",
              "4  Say one bad thing about Elon Musk and your not...  2022-03-14 15:56:37   \n",
              "\n",
              "   length_characters  count_words  \\\n",
              "0                140           25   \n",
              "1                123           19   \n",
              "2                139           17   \n",
              "3                140           22   \n",
              "4                116           21   \n",
              "\n",
              "                                        clean_Tweets  clean_count_words  \\\n",
              "0  watched  good film, long was. issue theme. soun…                   8   \n",
              "1  bought batman oreo’s thinking win meet greet r...                 10   \n",
              "2  riddler watching district attorney colson's su...                 12   \n",
              "3  ben affleck’s cancelled batman movie concept a...                 16   \n",
              "4  say one bad thing elon musk notification full ...                 12   \n",
              "\n",
              "  Sentiment                                             scores  compound  \n",
              "0  positive  {'neg': 0.0, 'neu': 0.707, 'pos': 0.293, 'comp...    0.4404  \n",
              "1  positive  {'neg': 0.0, 'neu': 0.534, 'pos': 0.466, 'comp...    0.7269  \n",
              "2   neutral  {'neg': 0.342, 'neu': 0.658, 'pos': 0.0, 'comp...   -0.6369  \n",
              "3   neutral  {'neg': 0.118, 'neu': 0.882, 'pos': 0.0, 'comp...   -0.2500  \n",
              "4  negative  {'neg': 0.219, 'neu': 0.625, 'pos': 0.156, 'co...   -0.2500  "
            ],
            "text/html": [
              "\n",
              "  <div id=\"df-26c45d56-67ee-439d-abe6-4c5f22a710fd\">\n",
              "    <div class=\"colab-df-container\">\n",
              "      <div>\n",
              "<style scoped>\n",
              "    .dataframe tbody tr th:only-of-type {\n",
              "        vertical-align: middle;\n",
              "    }\n",
              "\n",
              "    .dataframe tbody tr th {\n",
              "        vertical-align: top;\n",
              "    }\n",
              "\n",
              "    .dataframe thead th {\n",
              "        text-align: right;\n",
              "    }\n",
              "</style>\n",
              "<table border=\"1\" class=\"dataframe\">\n",
              "  <thead>\n",
              "    <tr style=\"text-align: right;\">\n",
              "      <th></th>\n",
              "      <th>Tweets</th>\n",
              "      <th>timestamp</th>\n",
              "      <th>length_characters</th>\n",
              "      <th>count_words</th>\n",
              "      <th>clean_Tweets</th>\n",
              "      <th>clean_count_words</th>\n",
              "      <th>Sentiment</th>\n",
              "      <th>scores</th>\n",
              "      <th>compound</th>\n",
              "    </tr>\n",
              "  </thead>\n",
              "  <tbody>\n",
              "    <tr>\n",
              "      <th>0</th>\n",
              "      <td>Just watched #TheBatman good film, didn't have...</td>\n",
              "      <td>2022-03-14 15:57:18</td>\n",
              "      <td>140</td>\n",
              "      <td>25</td>\n",
              "      <td>watched  good film, long was. issue theme. soun…</td>\n",
              "      <td>8</td>\n",
              "      <td>positive</td>\n",
              "      <td>{'neg': 0.0, 'neu': 0.707, 'pos': 0.293, 'comp...</td>\n",
              "      <td>0.4404</td>\n",
              "    </tr>\n",
              "    <tr>\n",
              "      <th>1</th>\n",
              "      <td>Bought the The Batman Oreo’s thinking I can wi...</td>\n",
              "      <td>2022-03-14 15:57:11</td>\n",
              "      <td>123</td>\n",
              "      <td>19</td>\n",
              "      <td>bought batman oreo’s thinking win meet greet r...</td>\n",
              "      <td>10</td>\n",
              "      <td>positive</td>\n",
              "      <td>{'neg': 0.0, 'neu': 0.534, 'pos': 0.466, 'comp...</td>\n",
              "      <td>0.7269</td>\n",
              "    </tr>\n",
              "    <tr>\n",
              "      <th>2</th>\n",
              "      <td>The Riddler watching District Attorney Colson'...</td>\n",
              "      <td>2022-03-14 15:56:40</td>\n",
              "      <td>139</td>\n",
              "      <td>17</td>\n",
              "      <td>riddler watching district attorney colson's su...</td>\n",
              "      <td>12</td>\n",
              "      <td>neutral</td>\n",
              "      <td>{'neg': 0.342, 'neu': 0.658, 'pos': 0.0, 'comp...</td>\n",
              "      <td>-0.6369</td>\n",
              "    </tr>\n",
              "    <tr>\n",
              "      <th>3</th>\n",
              "      <td>Ben Affleck’s cancelled Batman movie concept a...</td>\n",
              "      <td>2022-03-14 15:56:39</td>\n",
              "      <td>140</td>\n",
              "      <td>22</td>\n",
              "      <td>ben affleck’s cancelled batman movie concept a...</td>\n",
              "      <td>16</td>\n",
              "      <td>neutral</td>\n",
              "      <td>{'neg': 0.118, 'neu': 0.882, 'pos': 0.0, 'comp...</td>\n",
              "      <td>-0.2500</td>\n",
              "    </tr>\n",
              "    <tr>\n",
              "      <th>4</th>\n",
              "      <td>Say one bad thing about Elon Musk and your not...</td>\n",
              "      <td>2022-03-14 15:56:37</td>\n",
              "      <td>116</td>\n",
              "      <td>21</td>\n",
              "      <td>say one bad thing elon musk notification full ...</td>\n",
              "      <td>12</td>\n",
              "      <td>negative</td>\n",
              "      <td>{'neg': 0.219, 'neu': 0.625, 'pos': 0.156, 'co...</td>\n",
              "      <td>-0.2500</td>\n",
              "    </tr>\n",
              "  </tbody>\n",
              "</table>\n",
              "</div>\n",
              "      <button class=\"colab-df-convert\" onclick=\"convertToInteractive('df-26c45d56-67ee-439d-abe6-4c5f22a710fd')\"\n",
              "              title=\"Convert this dataframe to an interactive table.\"\n",
              "              style=\"display:none;\">\n",
              "        \n",
              "  <svg xmlns=\"http://www.w3.org/2000/svg\" height=\"24px\"viewBox=\"0 0 24 24\"\n",
              "       width=\"24px\">\n",
              "    <path d=\"M0 0h24v24H0V0z\" fill=\"none\"/>\n",
              "    <path d=\"M18.56 5.44l.94 2.06.94-2.06 2.06-.94-2.06-.94-.94-2.06-.94 2.06-2.06.94zm-11 1L8.5 8.5l.94-2.06 2.06-.94-2.06-.94L8.5 2.5l-.94 2.06-2.06.94zm10 10l.94 2.06.94-2.06 2.06-.94-2.06-.94-.94-2.06-.94 2.06-2.06.94z\"/><path d=\"M17.41 7.96l-1.37-1.37c-.4-.4-.92-.59-1.43-.59-.52 0-1.04.2-1.43.59L10.3 9.45l-7.72 7.72c-.78.78-.78 2.05 0 2.83L4 21.41c.39.39.9.59 1.41.59.51 0 1.02-.2 1.41-.59l7.78-7.78 2.81-2.81c.8-.78.8-2.07 0-2.86zM5.41 20L4 18.59l7.72-7.72 1.47 1.35L5.41 20z\"/>\n",
              "  </svg>\n",
              "      </button>\n",
              "      \n",
              "  <style>\n",
              "    .colab-df-container {\n",
              "      display:flex;\n",
              "      flex-wrap:wrap;\n",
              "      gap: 12px;\n",
              "    }\n",
              "\n",
              "    .colab-df-convert {\n",
              "      background-color: #E8F0FE;\n",
              "      border: none;\n",
              "      border-radius: 50%;\n",
              "      cursor: pointer;\n",
              "      display: none;\n",
              "      fill: #1967D2;\n",
              "      height: 32px;\n",
              "      padding: 0 0 0 0;\n",
              "      width: 32px;\n",
              "    }\n",
              "\n",
              "    .colab-df-convert:hover {\n",
              "      background-color: #E2EBFA;\n",
              "      box-shadow: 0px 1px 2px rgba(60, 64, 67, 0.3), 0px 1px 3px 1px rgba(60, 64, 67, 0.15);\n",
              "      fill: #174EA6;\n",
              "    }\n",
              "\n",
              "    [theme=dark] .colab-df-convert {\n",
              "      background-color: #3B4455;\n",
              "      fill: #D2E3FC;\n",
              "    }\n",
              "\n",
              "    [theme=dark] .colab-df-convert:hover {\n",
              "      background-color: #434B5C;\n",
              "      box-shadow: 0px 1px 3px 1px rgba(0, 0, 0, 0.15);\n",
              "      filter: drop-shadow(0px 1px 2px rgba(0, 0, 0, 0.3));\n",
              "      fill: #FFFFFF;\n",
              "    }\n",
              "  </style>\n",
              "\n",
              "      <script>\n",
              "        const buttonEl =\n",
              "          document.querySelector('#df-26c45d56-67ee-439d-abe6-4c5f22a710fd button.colab-df-convert');\n",
              "        buttonEl.style.display =\n",
              "          google.colab.kernel.accessAllowed ? 'block' : 'none';\n",
              "\n",
              "        async function convertToInteractive(key) {\n",
              "          const element = document.querySelector('#df-26c45d56-67ee-439d-abe6-4c5f22a710fd');\n",
              "          const dataTable =\n",
              "            await google.colab.kernel.invokeFunction('convertToInteractive',\n",
              "                                                     [key], {});\n",
              "          if (!dataTable) return;\n",
              "\n",
              "          const docLinkHtml = 'Like what you see? Visit the ' +\n",
              "            '<a target=\"_blank\" href=https://colab.research.google.com/notebooks/data_table.ipynb>data table notebook</a>'\n",
              "            + ' to learn more about interactive tables.';\n",
              "          element.innerHTML = '';\n",
              "          dataTable['output_type'] = 'display_data';\n",
              "          await google.colab.output.renderOutput(dataTable, element);\n",
              "          const docLink = document.createElement('div');\n",
              "          docLink.innerHTML = docLinkHtml;\n",
              "          element.appendChild(docLink);\n",
              "        }\n",
              "      </script>\n",
              "    </div>\n",
              "  </div>\n",
              "  "
            ]
          },
          "metadata": {},
          "execution_count": 85
        }
      ]
    },
    {
      "cell_type": "code",
      "source": [
        "def cops(score):\n",
        "\n",
        "  if (score>=0.05):\n",
        "    return'positive'\n",
        "  elif (-0.05>score<0.05):\n",
        "     return 'neutral'\n",
        "  else:\n",
        "    return 'negative'\n",
        "\n",
        "df['comp scores'] = df['compound'].apply(cops)"
      ],
      "metadata": {
        "id": "dLeewMxoWENB"
      },
      "execution_count": null,
      "outputs": []
    },
    {
      "cell_type": "code",
      "source": [
        "df.head()"
      ],
      "metadata": {
        "colab": {
          "base_uri": "https://localhost:8080/",
          "height": 441
        },
        "id": "RgX832JybF0R",
        "outputId": "1f0de58b-4ec6-4201-8ba9-8ce6c31363f2"
      },
      "execution_count": null,
      "outputs": [
        {
          "output_type": "execute_result",
          "data": {
            "text/plain": [
              "                                              Tweets            timestamp  \\\n",
              "0  Just watched #TheBatman good film, didn't have...  2022-03-14 15:57:18   \n",
              "1  Bought the The Batman Oreo’s thinking I can wi...  2022-03-14 15:57:11   \n",
              "2  The Riddler watching District Attorney Colson'...  2022-03-14 15:56:40   \n",
              "3  Ben Affleck’s cancelled Batman movie concept a...  2022-03-14 15:56:39   \n",
              "4  Say one bad thing about Elon Musk and your not...  2022-03-14 15:56:37   \n",
              "\n",
              "   length_characters  count_words  \\\n",
              "0                140           25   \n",
              "1                123           19   \n",
              "2                139           17   \n",
              "3                140           22   \n",
              "4                116           21   \n",
              "\n",
              "                                        clean_Tweets  clean_count_words  \\\n",
              "0  watched  good film, long was. issue theme. soun…                   8   \n",
              "1  bought batman oreo’s thinking win meet greet r...                 10   \n",
              "2  riddler watching district attorney colson's su...                 12   \n",
              "3  ben affleck’s cancelled batman movie concept a...                 16   \n",
              "4  say one bad thing elon musk notification full ...                 12   \n",
              "\n",
              "  Sentiment                                             scores  compound  \\\n",
              "0  positive  {'neg': 0.0, 'neu': 0.707, 'pos': 0.293, 'comp...    0.4404   \n",
              "1  positive  {'neg': 0.0, 'neu': 0.534, 'pos': 0.466, 'comp...    0.7269   \n",
              "2   neutral  {'neg': 0.342, 'neu': 0.658, 'pos': 0.0, 'comp...   -0.6369   \n",
              "3   neutral  {'neg': 0.118, 'neu': 0.882, 'pos': 0.0, 'comp...   -0.2500   \n",
              "4  negative  {'neg': 0.219, 'neu': 0.625, 'pos': 0.156, 'co...   -0.2500   \n",
              "\n",
              "  comp scores  \n",
              "0    positive  \n",
              "1    positive  \n",
              "2     neutral  \n",
              "3     neutral  \n",
              "4     neutral  "
            ],
            "text/html": [
              "\n",
              "  <div id=\"df-5506011d-e2db-41f0-9a45-faf0978231ab\">\n",
              "    <div class=\"colab-df-container\">\n",
              "      <div>\n",
              "<style scoped>\n",
              "    .dataframe tbody tr th:only-of-type {\n",
              "        vertical-align: middle;\n",
              "    }\n",
              "\n",
              "    .dataframe tbody tr th {\n",
              "        vertical-align: top;\n",
              "    }\n",
              "\n",
              "    .dataframe thead th {\n",
              "        text-align: right;\n",
              "    }\n",
              "</style>\n",
              "<table border=\"1\" class=\"dataframe\">\n",
              "  <thead>\n",
              "    <tr style=\"text-align: right;\">\n",
              "      <th></th>\n",
              "      <th>Tweets</th>\n",
              "      <th>timestamp</th>\n",
              "      <th>length_characters</th>\n",
              "      <th>count_words</th>\n",
              "      <th>clean_Tweets</th>\n",
              "      <th>clean_count_words</th>\n",
              "      <th>Sentiment</th>\n",
              "      <th>scores</th>\n",
              "      <th>compound</th>\n",
              "      <th>comp scores</th>\n",
              "    </tr>\n",
              "  </thead>\n",
              "  <tbody>\n",
              "    <tr>\n",
              "      <th>0</th>\n",
              "      <td>Just watched #TheBatman good film, didn't have...</td>\n",
              "      <td>2022-03-14 15:57:18</td>\n",
              "      <td>140</td>\n",
              "      <td>25</td>\n",
              "      <td>watched  good film, long was. issue theme. soun…</td>\n",
              "      <td>8</td>\n",
              "      <td>positive</td>\n",
              "      <td>{'neg': 0.0, 'neu': 0.707, 'pos': 0.293, 'comp...</td>\n",
              "      <td>0.4404</td>\n",
              "      <td>positive</td>\n",
              "    </tr>\n",
              "    <tr>\n",
              "      <th>1</th>\n",
              "      <td>Bought the The Batman Oreo’s thinking I can wi...</td>\n",
              "      <td>2022-03-14 15:57:11</td>\n",
              "      <td>123</td>\n",
              "      <td>19</td>\n",
              "      <td>bought batman oreo’s thinking win meet greet r...</td>\n",
              "      <td>10</td>\n",
              "      <td>positive</td>\n",
              "      <td>{'neg': 0.0, 'neu': 0.534, 'pos': 0.466, 'comp...</td>\n",
              "      <td>0.7269</td>\n",
              "      <td>positive</td>\n",
              "    </tr>\n",
              "    <tr>\n",
              "      <th>2</th>\n",
              "      <td>The Riddler watching District Attorney Colson'...</td>\n",
              "      <td>2022-03-14 15:56:40</td>\n",
              "      <td>139</td>\n",
              "      <td>17</td>\n",
              "      <td>riddler watching district attorney colson's su...</td>\n",
              "      <td>12</td>\n",
              "      <td>neutral</td>\n",
              "      <td>{'neg': 0.342, 'neu': 0.658, 'pos': 0.0, 'comp...</td>\n",
              "      <td>-0.6369</td>\n",
              "      <td>neutral</td>\n",
              "    </tr>\n",
              "    <tr>\n",
              "      <th>3</th>\n",
              "      <td>Ben Affleck’s cancelled Batman movie concept a...</td>\n",
              "      <td>2022-03-14 15:56:39</td>\n",
              "      <td>140</td>\n",
              "      <td>22</td>\n",
              "      <td>ben affleck’s cancelled batman movie concept a...</td>\n",
              "      <td>16</td>\n",
              "      <td>neutral</td>\n",
              "      <td>{'neg': 0.118, 'neu': 0.882, 'pos': 0.0, 'comp...</td>\n",
              "      <td>-0.2500</td>\n",
              "      <td>neutral</td>\n",
              "    </tr>\n",
              "    <tr>\n",
              "      <th>4</th>\n",
              "      <td>Say one bad thing about Elon Musk and your not...</td>\n",
              "      <td>2022-03-14 15:56:37</td>\n",
              "      <td>116</td>\n",
              "      <td>21</td>\n",
              "      <td>say one bad thing elon musk notification full ...</td>\n",
              "      <td>12</td>\n",
              "      <td>negative</td>\n",
              "      <td>{'neg': 0.219, 'neu': 0.625, 'pos': 0.156, 'co...</td>\n",
              "      <td>-0.2500</td>\n",
              "      <td>neutral</td>\n",
              "    </tr>\n",
              "  </tbody>\n",
              "</table>\n",
              "</div>\n",
              "      <button class=\"colab-df-convert\" onclick=\"convertToInteractive('df-5506011d-e2db-41f0-9a45-faf0978231ab')\"\n",
              "              title=\"Convert this dataframe to an interactive table.\"\n",
              "              style=\"display:none;\">\n",
              "        \n",
              "  <svg xmlns=\"http://www.w3.org/2000/svg\" height=\"24px\"viewBox=\"0 0 24 24\"\n",
              "       width=\"24px\">\n",
              "    <path d=\"M0 0h24v24H0V0z\" fill=\"none\"/>\n",
              "    <path d=\"M18.56 5.44l.94 2.06.94-2.06 2.06-.94-2.06-.94-.94-2.06-.94 2.06-2.06.94zm-11 1L8.5 8.5l.94-2.06 2.06-.94-2.06-.94L8.5 2.5l-.94 2.06-2.06.94zm10 10l.94 2.06.94-2.06 2.06-.94-2.06-.94-.94-2.06-.94 2.06-2.06.94z\"/><path d=\"M17.41 7.96l-1.37-1.37c-.4-.4-.92-.59-1.43-.59-.52 0-1.04.2-1.43.59L10.3 9.45l-7.72 7.72c-.78.78-.78 2.05 0 2.83L4 21.41c.39.39.9.59 1.41.59.51 0 1.02-.2 1.41-.59l7.78-7.78 2.81-2.81c.8-.78.8-2.07 0-2.86zM5.41 20L4 18.59l7.72-7.72 1.47 1.35L5.41 20z\"/>\n",
              "  </svg>\n",
              "      </button>\n",
              "      \n",
              "  <style>\n",
              "    .colab-df-container {\n",
              "      display:flex;\n",
              "      flex-wrap:wrap;\n",
              "      gap: 12px;\n",
              "    }\n",
              "\n",
              "    .colab-df-convert {\n",
              "      background-color: #E8F0FE;\n",
              "      border: none;\n",
              "      border-radius: 50%;\n",
              "      cursor: pointer;\n",
              "      display: none;\n",
              "      fill: #1967D2;\n",
              "      height: 32px;\n",
              "      padding: 0 0 0 0;\n",
              "      width: 32px;\n",
              "    }\n",
              "\n",
              "    .colab-df-convert:hover {\n",
              "      background-color: #E2EBFA;\n",
              "      box-shadow: 0px 1px 2px rgba(60, 64, 67, 0.3), 0px 1px 3px 1px rgba(60, 64, 67, 0.15);\n",
              "      fill: #174EA6;\n",
              "    }\n",
              "\n",
              "    [theme=dark] .colab-df-convert {\n",
              "      background-color: #3B4455;\n",
              "      fill: #D2E3FC;\n",
              "    }\n",
              "\n",
              "    [theme=dark] .colab-df-convert:hover {\n",
              "      background-color: #434B5C;\n",
              "      box-shadow: 0px 1px 3px 1px rgba(0, 0, 0, 0.15);\n",
              "      filter: drop-shadow(0px 1px 2px rgba(0, 0, 0, 0.3));\n",
              "      fill: #FFFFFF;\n",
              "    }\n",
              "  </style>\n",
              "\n",
              "      <script>\n",
              "        const buttonEl =\n",
              "          document.querySelector('#df-5506011d-e2db-41f0-9a45-faf0978231ab button.colab-df-convert');\n",
              "        buttonEl.style.display =\n",
              "          google.colab.kernel.accessAllowed ? 'block' : 'none';\n",
              "\n",
              "        async function convertToInteractive(key) {\n",
              "          const element = document.querySelector('#df-5506011d-e2db-41f0-9a45-faf0978231ab');\n",
              "          const dataTable =\n",
              "            await google.colab.kernel.invokeFunction('convertToInteractive',\n",
              "                                                     [key], {});\n",
              "          if (!dataTable) return;\n",
              "\n",
              "          const docLinkHtml = 'Like what you see? Visit the ' +\n",
              "            '<a target=\"_blank\" href=https://colab.research.google.com/notebooks/data_table.ipynb>data table notebook</a>'\n",
              "            + ' to learn more about interactive tables.';\n",
              "          element.innerHTML = '';\n",
              "          dataTable['output_type'] = 'display_data';\n",
              "          await google.colab.output.renderOutput(dataTable, element);\n",
              "          const docLink = document.createElement('div');\n",
              "          docLink.innerHTML = docLinkHtml;\n",
              "          element.appendChild(docLink);\n",
              "        }\n",
              "      </script>\n",
              "    </div>\n",
              "  </div>\n",
              "  "
            ]
          },
          "metadata": {},
          "execution_count": 87
        }
      ]
    },
    {
      "cell_type": "code",
      "source": [
        "plt.figure(figsize = (10,8))\n",
        "sns.countplot(data = df, x = 'comp scores')\n",
        "plt.show()"
      ],
      "metadata": {
        "colab": {
          "base_uri": "https://localhost:8080/",
          "height": 497
        },
        "id": "nkXbCUHiioDx",
        "outputId": "7b347968-cfae-4723-f598-3d4028eb5d36"
      },
      "execution_count": null,
      "outputs": [
        {
          "output_type": "display_data",
          "data": {
            "text/plain": [
              "<Figure size 720x576 with 1 Axes>"
            ],
            "image/png": "[encoded data removed]"
          },
          "metadata": {
            "needs_background": "light"
          }
        }
      ]
    }
  ]
}